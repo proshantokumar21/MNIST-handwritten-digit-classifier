{
 "cells": [
  {
   "cell_type": "markdown",
   "metadata": {},
   "source": [
    "# Introduction\n",
    "\n",
    "In this project, you will build a neural network of your own design to evaluate the MNIST dataset.\n",
    "\n",
    "Some of the benchmark results on MNIST include can be found [on Yann LeCun's page](http://yann.lecun.com/exdb/mnist/) and include:\n",
    "\n",
    "88% [Lecun et al., 1998](http://yann.lecun.com/exdb/publis/pdf/lecun-98.pdf)\n",
    "95.3% [Lecun et al., 1998](http://yann.lecun.com/exdb/publis/pdf/lecun-98.pdf)\n",
    "99.65% [Ciresan et al., 2011](http://people.idsia.ch/~juergen/ijcai2011.pdf)\n",
    "\n",
    "MNIST is a great dataset for sanity checking your models, since the accuracy levels achieved by large convolutional neural networks and small linear models are both quite high. This makes it important to be familiar with the data.\n",
    "\n",
    "## Imports"
   ]
  },
  {
   "cell_type": "code",
   "execution_count": 1,
   "metadata": {},
   "outputs": [],
   "source": [
    "## This cell contains the essential imports you will need – DO NOT CHANGE THE CONTENTS! ##\n",
    "import torch\n",
    "import torch.nn as nn\n",
    "import torch.nn.functional as F\n",
    "import torch.optim as optim\n",
    "import torchvision\n",
    "import torchvision.transforms as transforms\n",
    "import matplotlib.pyplot as plt\n",
    "import numpy as np"
   ]
  },
  {
   "cell_type": "code",
   "execution_count": null,
   "metadata": {},
   "outputs": [],
   "source": [
    "#Run this cell for first time only and restart the kernel\n",
    "!pip install ipywidgets\n",
    "!jupyter nbextension enable --py widgetsnbextension"
   ]
  },
  {
   "cell_type": "code",
   "execution_count": 2,
   "metadata": {},
   "outputs": [],
   "source": [
    "from ipywidgets import FloatProgress"
   ]
  },
  {
   "cell_type": "code",
   "execution_count": 2,
   "metadata": {},
   "outputs": [
    {
     "data": {
      "text/plain": [
       "device(type='cpu')"
      ]
     },
     "execution_count": 2,
     "metadata": {},
     "output_type": "execute_result"
    }
   ],
   "source": [
    "#Check GPU\n",
    "device = torch.device('cuda' if torch.cuda.is_available() else 'cpu')\n",
    "device"
   ]
  },
  {
   "cell_type": "markdown",
   "metadata": {},
   "source": [
    "## Load the Dataset\n",
    "\n",
    "Specify your transforms as a list if you intend to .\n",
    "The transforms module is already loaded as `transforms`.\n",
    "\n",
    "MNIST is fortunately included in the torchvision module.\n",
    "Then, you can create your dataset using the `MNIST` object from `torchvision.datasets` ([the documentation is available here](https://pytorch.org/vision/stable/datasets.html#mnist)).\n",
    "Make sure to specify `download=True`! \n",
    "\n",
    "Once your dataset is created, you'll also need to define a `DataLoader` from the `torch.utils.data` module for both the train and the test set."
   ]
  },
  {
   "cell_type": "code",
   "execution_count": 28,
   "metadata": {},
   "outputs": [],
   "source": [
    "#Import necessary libraries\n",
    "from torchvision import datasets\n",
    "from torch.utils.data import random_split, DataLoader\n",
    "\n",
    "# Define transforms\n",
    "transform = transforms.Compose(\n",
    "[\n",
    "    #Transform the pixel values(0-255) to a float tensor with range (0.0-1.0)\n",
    "    transforms.ToTensor(),\n",
    "    \n",
    "    #Normalize the tensor\n",
    "    transforms.Normalize((0.5), (0.5))\n",
    "])\n",
    "\n",
    "# Create training and validation set and define training dataloader\n",
    "train_validation_data = datasets.MNIST(root=\"data\", train=True, download=True, transform=transform)\n",
    "\n",
    "#Seperate 80% training data 20% validation data\n",
    "total_length = len(train_validation_data)\n",
    "train_length = int(total_length*0.8)\n",
    "validation_length = total_length - train_length\n",
    "train_data, validation_data = random_split(train_validation_data, [train_length, validation_length])\n",
    "\n",
    "#Training dataset loader\n",
    "train_loader = DataLoader(dataset=train_data, batch_size=64, shuffle=True)\n",
    "\n",
    "#Validation dataset loader\n",
    "validation_loader = DataLoader(dataset=validation_data, batch_size=64, shuffle=False)\n",
    "\n",
    "# Create test set and define test dataloader\n",
    "test_data = datasets.MNIST(root=\"data\", train=False, download=True, transform=transform)\n",
    "test_loader = DataLoader(test_data, batch_size=64)"
   ]
  },
  {
   "cell_type": "markdown",
   "metadata": {},
   "source": [
    "## Justify your preprocessing\n",
    "\n",
    "In your own words, why did you choose the transforms you chose? If you didn't use any preprocessing steps, why not?"
   ]
  },
  {
   "cell_type": "markdown",
   "metadata": {},
   "source": [
    "**Transformation 1: ToTensor()**\n",
    "This transformation is necessary because the pixel values range from 0 to 255. Such higher value are not supported by Tensor. So we convert the data in the range (0, 1). \n",
    "\n",
    "**Transformation 2: Normalize()**\n",
    "Activation functions better work with data with mean value 0.5 and standard deviation of 0.5. MNIST data has only one channel, so we normalize this channel only."
   ]
  },
  {
   "cell_type": "markdown",
   "metadata": {},
   "source": [
    "## Explore the Dataset\n",
    "Using matplotlib, numpy, and torch, explore the dimensions of your data.\n",
    "\n",
    "You can view images using the `show5` function defined below – it takes a data loader as an argument.\n",
    "Remember that normalized images will look really weird to you! You may want to try changing your transforms to view images.\n",
    "Typically using no transforms other than `toTensor()` works well for viewing – but not as well for training your network.\n",
    "If `show5` doesn't work, go back and check your code for creating your data loaders and your training/test sets."
   ]
  },
  {
   "cell_type": "code",
   "execution_count": 29,
   "metadata": {},
   "outputs": [],
   "source": [
    "## This cell contains a function for showing 5 images from a dataloader – DO NOT CHANGE THE CONTENTS! ##\n",
    "def show5(img_loader):\n",
    "    dataiter = iter(img_loader)\n",
    "    \n",
    "    batch = next(dataiter)\n",
    "    labels = batch[1][0:5]\n",
    "    images = batch[0][0:5]\n",
    "    for i in range(5):\n",
    "        print(int(labels[i].detach()))\n",
    "    \n",
    "        image = images[i].numpy()\n",
    "        plt.imshow(image.T.squeeze().T)\n",
    "        plt.show()"
   ]
  },
  {
   "cell_type": "code",
   "execution_count": 30,
   "metadata": {},
   "outputs": [
    {
     "name": "stdout",
     "output_type": "stream",
     "text": [
      "9\n"
     ]
    },
    {
     "data": {
      "image/png": "[encoded data removed]",
      "text/plain": [
       "<Figure size 432x288 with 1 Axes>"
      ]
     },
     "metadata": {
      "needs_background": "light"
     },
     "output_type": "display_data"
    },
    {
     "name": "stdout",
     "output_type": "stream",
     "text": [
      "6\n"
     ]
    },
    {
     "data": {
      "image/png": "[encoded data removed]",
      "text/plain": [
       "<Figure size 432x288 with 1 Axes>"
      ]
     },
     "metadata": {
      "needs_background": "light"
     },
     "output_type": "display_data"
    },
    {
     "name": "stdout",
     "output_type": "stream",
     "text": [
      "6\n"
     ]
    },
    {
     "data": {
      "image/png": "[encoded data removed]",
      "text/plain": [
       "<Figure size 432x288 with 1 Axes>"
      ]
     },
     "metadata": {
      "needs_background": "light"
     },
     "output_type": "display_data"
    },
    {
     "name": "stdout",
     "output_type": "stream",
     "text": [
      "3\n"
     ]
    },
    {
     "data": {
      "image/png": "[encoded data removed]",
      "text/plain": [
       "<Figure size 432x288 with 1 Axes>"
      ]
     },
     "metadata": {
      "needs_background": "light"
     },
     "output_type": "display_data"
    },
    {
     "name": "stdout",
     "output_type": "stream",
     "text": [
      "2\n"
     ]
    },
    {
     "data": {
      "image/png": "[encoded data removed]",
      "text/plain": [
       "<Figure size 432x288 with 1 Axes>"
      ]
     },
     "metadata": {
      "needs_background": "light"
     },
     "output_type": "display_data"
    },
    {
     "name": "stdout",
     "output_type": "stream",
     "text": [
      "Shape of each image is: [1, 28, 28]\n"
     ]
    }
   ],
   "source": [
    "# Explore data\n",
    "#Show some Training data\n",
    "show5(train_loader)\n",
    "\n",
    "#Shape of each image\n",
    "dataiter = iter(train_loader)\n",
    "batch = next(dataiter)\n",
    "image = batch[0][0]\n",
    "shape = list(image.shape)\n",
    "height = shape[-2]\n",
    "width = shape[-1]\n",
    "print(f\"Shape of each image is: {list(image.shape)}\")"
   ]
  },
  {
   "cell_type": "code",
   "execution_count": 31,
   "metadata": {},
   "outputs": [
    {
     "name": "stdout",
     "output_type": "stream",
     "text": [
      "Total number of classes is 10\n"
     ]
    }
   ],
   "source": [
    "#Check number of Classes\n",
    "n_classes = len(set(train_validation_data.targets.tolist()))\n",
    "\n",
    "print(f\"Total number of classes is {n_classes}\")"
   ]
  },
  {
   "cell_type": "markdown",
   "metadata": {},
   "source": [
    "## Build your Neural Network\n",
    "Using the layers in `torch.nn` (which has been imported as `nn`) and the `torch.nn.functional` module (imported as `F`), construct a neural network based on the parameters of the dataset.\n",
    "Use any architecture you like. \n",
    "\n",
    "*Note*: If you did not flatten your tensors in your transforms or as part of your preprocessing and you are using only `Linear` layers, make sure to use the `Flatten` layer in your network!"
   ]
  },
  {
   "cell_type": "code",
   "execution_count": 34,
   "metadata": {},
   "outputs": [],
   "source": [
    "#Defining Neural Networkc\n",
    "class Net(nn.Module):\n",
    "    def __init__(self, height, width, n_class):\n",
    "        super(Net, self).__init__()\n",
    "        \n",
    "        #Height and width of the input image\n",
    "        self.height = height\n",
    "        self.width = width\n",
    "        \n",
    "        #input size to 450 hidden units\n",
    "        self.fc1 = nn.Linear(height*width, 450)\n",
    "        #Rectified Linear Activation\n",
    "        self.relu1 = nn.ReLU()\n",
    "        #40% dropout to overcome overfitting\n",
    "        self.dropout1 = nn.Dropout(0.4)\n",
    "        #450 hidden unit to 350 hidden unit\n",
    "        self.fc2 = nn.Linear(450, 350)\n",
    "        #Rectified Linear Activation\n",
    "        self.relu2 = nn.ReLU()\n",
    "        #30% dropout to overcome overfitting\n",
    "        self.dropout2 = nn.Dropout(0.3)\n",
    "        #380 hidden unit to n_class output unit\n",
    "        self.fc3 = nn.Linear(350, n_class)\n",
    "        \n",
    "    def forward(self, x):\n",
    "        #Flatten the input image\n",
    "        x = x.view(-1, self.height*self.width)\n",
    "        #Forward pass the input through the network\n",
    "        x = self.fc1(x)\n",
    "        x = self.relu1(x)\n",
    "        x = self.dropout1(x)\n",
    "        x = self.fc2(x)\n",
    "        x = self.relu2(x)\n",
    "        x = self.dropout2(x)\n",
    "        x = self.fc3(x)\n",
    "        \n",
    "        return x"
   ]
  },
  {
   "cell_type": "markdown",
   "metadata": {},
   "source": [
    "Specify a loss function and an optimizer, and instantiate the model.\n",
    "\n",
    "If you use a less common loss function, please note why you chose that loss function in a comment."
   ]
  },
  {
   "cell_type": "code",
   "execution_count": 41,
   "metadata": {},
   "outputs": [],
   "source": [
    "#Instantiate the model\n",
    "model = Net(height, width, n_classes)\n",
    "\n",
    "#Upload the model to GPU memory if available\n",
    "model.to(device)\n",
    "\n",
    "#Specify loss function\n",
    "criterion = nn.CrossEntropyLoss()\n",
    "\n",
    "#Specify optimizer\n",
    "#Learnrate = 0.001\n",
    "#L2 regularization by specifying weight decay to prevent overfitting\n",
    "optimizer = optim.Adam(model.parameters(), lr=0.001, weight_decay = 0.0001)"
   ]
  },
  {
   "cell_type": "markdown",
   "metadata": {},
   "source": [
    "## Running your Neural Network\n",
    "Use whatever method you like to train your neural network, and ensure you record the average loss at each epoch. \n",
    "Don't forget to use `torch.device()` and the `.to()` method for both your model and your data if you are using GPU!\n",
    "\n",
    "If you want to print your loss **during** each epoch, you can use the `enumerate` function and print the loss after a set number of batches. 250 batches works well for most people!"
   ]
  },
  {
   "cell_type": "code",
   "execution_count": 42,
   "metadata": {},
   "outputs": [
    {
     "name": "stdout",
     "output_type": "stream",
     "text": [
      "Epoch: 1\n",
      "----------\n",
      "\tAccuracy:\n",
      "\t\tTrain: 86.1771%\n",
      "\t\tValidation: 93.5417%\n",
      "\tLoss:\n",
      "\t\tTrain: 0.4377\n",
      "\t\tValidation: 0.2129\n",
      "\n",
      "Epoch: 2\n",
      "----------\n",
      "\tAccuracy:\n",
      "\t\tTrain: 92.1958%\n",
      "\t\tValidation: 95.2167%\n",
      "\tLoss:\n",
      "\t\tTrain: 0.2533\n",
      "\t\tValidation: 0.1615\n",
      "\n",
      "Epoch: 3\n",
      "----------\n",
      "\tAccuracy:\n",
      "\t\tTrain: 93.4521%\n",
      "\t\tValidation: 95.6750%\n",
      "\tLoss:\n",
      "\t\tTrain: 0.2144\n",
      "\t\tValidation: 0.1429\n",
      "\n",
      "Epoch: 4\n",
      "----------\n",
      "\tAccuracy:\n",
      "\t\tTrain: 94.2604%\n",
      "\t\tValidation: 96.1750%\n",
      "\tLoss:\n",
      "\t\tTrain: 0.1872\n",
      "\t\tValidation: 0.1294\n",
      "\n",
      "Epoch: 5\n",
      "----------\n",
      "\tAccuracy:\n",
      "\t\tTrain: 94.4250%\n",
      "\t\tValidation: 96.4500%\n",
      "\tLoss:\n",
      "\t\tTrain: 0.1785\n",
      "\t\tValidation: 0.1173\n",
      "\n",
      "Epoch: 6\n",
      "----------\n",
      "\tAccuracy:\n",
      "\t\tTrain: 94.6937%\n",
      "\t\tValidation: 96.5500%\n",
      "\tLoss:\n",
      "\t\tTrain: 0.1680\n",
      "\t\tValidation: 0.1175\n",
      "\n",
      "Epoch: 7\n",
      "----------\n",
      "\tAccuracy:\n",
      "\t\tTrain: 95.1250%\n",
      "\t\tValidation: 96.6417%\n",
      "\tLoss:\n",
      "\t\tTrain: 0.1603\n",
      "\t\tValidation: 0.1102\n",
      "\n",
      "Epoch: 8\n",
      "----------\n",
      "\tAccuracy:\n",
      "\t\tTrain: 95.2687%\n",
      "\t\tValidation: 96.6917%\n",
      "\tLoss:\n",
      "\t\tTrain: 0.1526\n",
      "\t\tValidation: 0.1120\n",
      "\n",
      "Epoch: 9\n",
      "----------\n",
      "\tAccuracy:\n",
      "\t\tTrain: 95.3354%\n",
      "\t\tValidation: 96.7333%\n",
      "\tLoss:\n",
      "\t\tTrain: 0.1511\n",
      "\t\tValidation: 0.1070\n",
      "\n",
      "Epoch: 10\n",
      "----------\n",
      "\tAccuracy:\n",
      "\t\tTrain: 95.6104%\n",
      "\t\tValidation: 96.8500%\n",
      "\tLoss:\n",
      "\t\tTrain: 0.1405\n",
      "\t\tValidation: 0.1032\n",
      "\n"
     ]
    }
   ],
   "source": [
    "#Creating the training and validation loop\n",
    "\n",
    "#Number of epochs\n",
    "epochs = 10\n",
    "\n",
    "#List for loss history\n",
    "train_loss_history = []\n",
    "val_loss_history = []\n",
    "\n",
    "#Training and validation loop\n",
    "for epoch in range(epochs):\n",
    "    \n",
    "    ##Training##\n",
    "    \n",
    "    #Set the model in traing mode\n",
    "    model.train()\n",
    "    \n",
    "    #Initialize training loss for each epoch\n",
    "    train_loss = 0.0\n",
    "    \n",
    "    #Count correct predictions while training\n",
    "    train_correct = 0\n",
    "    \n",
    "    #Loop for each batch of data\n",
    "    for i, data in enumerate(train_loader):\n",
    "        #input images and labels\n",
    "        inputs, labels = data\n",
    "        \n",
    "        #Upload data to GPU memory if available\n",
    "        inputs = inputs.to(device)\n",
    "        labels = labels.to(device)\n",
    "        \n",
    "        #Set gradient value value to zero\n",
    "        optimizer.zero_grad()\n",
    "        \n",
    "        #Output of forward pass\n",
    "        outputs = model(inputs)\n",
    "        \n",
    "        #Calculate cross entropy loss\n",
    "        loss = criterion(outputs, labels)\n",
    "        \n",
    "        #Backpropagate the loss\n",
    "        loss.backward()\n",
    "        \n",
    "        #Optimize the model by updating weights\n",
    "        optimizer.step()\n",
    "        \n",
    "        #Extract model predictions\n",
    "        _, predicts = torch.max(outputs.data, 1)\n",
    "        \n",
    "        #Calculate total number of correct predictions by comparing with labels\n",
    "        num_corrects = (predicts == labels).sum().item()\n",
    "        \n",
    "        #Update the total number of correct predictions\n",
    "        train_correct += num_corrects\n",
    "        \n",
    "        #Record the training loss\n",
    "        train_loss += loss.item()\n",
    "        \n",
    "    ##Validation##\n",
    "    with torch.no_grad():\n",
    "    \n",
    "        #Set the model in validation mode\n",
    "        model.eval()\n",
    "\n",
    "        #Initialize validation loss\n",
    "        val_loss = 0.0\n",
    "\n",
    "        #Count correct predictions\n",
    "        val_correct = 0\n",
    "\n",
    "        #Loop for each batch of data\n",
    "        for i, data in enumerate(validation_loader):\n",
    "            #input images and labels\n",
    "            inputs, labels = data\n",
    "\n",
    "            #Upload data to GPU memory if available\n",
    "            inputs = inputs.to(device)\n",
    "            labels = labels.to(device)\n",
    "\n",
    "            #Output of forward pass\n",
    "            outputs = model(inputs)\n",
    "\n",
    "            #Calculate cross entropy loss\n",
    "            loss = criterion(outputs, labels)\n",
    "\n",
    "            #Extract model predictions\n",
    "            _, predicts = torch.max(outputs.data, 1)\n",
    "\n",
    "            #Calculate total number of correct predictions by comparing with labels\n",
    "            num_corrects = (predicts == labels).sum().item()\n",
    "\n",
    "            #Update the total number of correct predictions\n",
    "            val_correct += num_corrects\n",
    "\n",
    "            #Record the training loss\n",
    "            val_loss += loss.item()\n",
    "        \n",
    "    #Print accuracy and loss for each epoch\n",
    "    \n",
    "    #Calculating average loss and accuracy\n",
    "    num_train_batches = len(train_loader)\n",
    "    num_val_batches = len(validation_loader)\n",
    "    train_length = len(train_loader.dataset)\n",
    "    validation_length = len(validation_loader.dataset)\n",
    "    \n",
    "    avg_train_loss = train_loss/num_train_batches\n",
    "    avg_val_loss = val_loss/num_val_batches\n",
    "    avg_train_accuracy = train_correct/train_length\n",
    "    avg_val_accuracy = val_correct/validation_length\n",
    "    \n",
    "    #Record training and validation loss history\n",
    "    train_loss_history.append(avg_train_loss)\n",
    "    val_loss_history.append(avg_val_loss)\n",
    "    \n",
    "    #Messages\n",
    "    messages = {\n",
    "        \"1\" : f\"Epoch: {epoch + 1}\",\n",
    "        \"2\" : \"-\"*10,\n",
    "        \"3\" : \"\\tAccuracy:\",\n",
    "        \"4\" : f\"\\t\\tTrain: {100*avg_train_accuracy:.4f}%\",\n",
    "        \"5\" : f\"\\t\\tValidation: {100*avg_val_accuracy:.4f}%\",\n",
    "        \"6\" : \"\\tLoss:\",\n",
    "        \"7\" : f\"\\t\\tTrain: {avg_train_loss:.4f}\",\n",
    "        \"8\" : f\"\\t\\tValidation: {avg_val_loss:.4f}\\n\"    \n",
    "    }\n",
    "    \n",
    "    #Print message\n",
    "    for i in range(len(messages)):\n",
    "        print(messages[f\"{i+1}\"])"
   ]
  },
  {
   "cell_type": "markdown",
   "metadata": {},
   "source": [
    "Plot the training loss (and validation loss/accuracy, if recorded)."
   ]
  },
  {
   "cell_type": "code",
   "execution_count": 43,
   "metadata": {},
   "outputs": [
    {
     "data": {
      "image/png": "[encoded data removed]",
      "text/plain": [
       "<Figure size 432x288 with 1 Axes>"
      ]
     },
     "metadata": {
      "needs_background": "light"
     },
     "output_type": "display_data"
    }
   ],
   "source": [
    "#Visualizing the loss history\n",
    "plt.plot(train_loss_history, label=\"Training Loss\")\n",
    "plt.plot(val_loss_history, label=\"Validaion Loss\")\n",
    "plt.legend()\n",
    "plt.show()"
   ]
  },
  {
   "cell_type": "markdown",
   "metadata": {},
   "source": [
    "## Testing your model\n",
    "Using the previously created `DataLoader` for the test set, compute the percentage of correct predictions using the highest probability prediction. \n",
    "\n",
    "If your accuracy is over 90%, great work, but see if you can push a bit further! \n",
    "If your accuracy is under 90%, you'll need to make improvements.\n",
    "Go back and check your model architecture, loss function, and optimizer to make sure they're appropriate for an image classification task."
   ]
  },
  {
   "cell_type": "code",
   "execution_count": 44,
   "metadata": {},
   "outputs": [
    {
     "name": "stdout",
     "output_type": "stream",
     "text": [
      "Testing Results\n",
      "--------------------\n",
      "\tAccuracy: 97.2800\n",
      "\tLoss: 0.0884\n"
     ]
    }
   ],
   "source": [
    "#Testing the trained model\n",
    "\n",
    "#Set the model in evaluation mode\n",
    "model.eval()\n",
    "\n",
    "#Initialize test loss\n",
    "test_loss = 0.0\n",
    "\n",
    "#Count correct predictions while testing\n",
    "test_correct = 0\n",
    "\n",
    "#Loop for each batch of data\n",
    "for i, data in enumerate(test_loader):\n",
    "    #input images and labels\n",
    "    inputs, labels = data\n",
    "\n",
    "    #Upload data to GPU memory if available\n",
    "    inputs = inputs.to(device)\n",
    "    labels = labels.to(device)\n",
    "\n",
    "    #Output of forward pass\n",
    "    outputs = model(inputs)\n",
    "\n",
    "    #Calculate cross entropy loss\n",
    "    loss = criterion(outputs, labels)\n",
    "    \n",
    "    #Extract model predictions\n",
    "    _, predicts = torch.max(outputs.data, 1)\n",
    "\n",
    "    #Calculate total number of correct predictions by comparing with labels\n",
    "    num_corrects = (predicts == labels).sum().item()\n",
    "\n",
    "    #Update the total number of correct predictions\n",
    "    test_correct += num_corrects\n",
    "\n",
    "    #Record the test loss\n",
    "    test_loss += loss.item()\n",
    "    \n",
    "#Calculate average accuracy and loss\n",
    "num_test_batches = len(test_loader)\n",
    "test_length = len(test_loader.dataset)\n",
    "\n",
    "avg_test_loss = test_loss/num_test_batches\n",
    "avg_test_accuracy = test_correct/test_length\n",
    "\n",
    "#Messages\n",
    "messages = {\n",
    "    \"1\" : \"Testing Results\",\n",
    "    \"2\" : \"-\"*20,\n",
    "    \"3\" : f\"\\tAccuracy: {avg_test_accuracy*100:.4f}\",\n",
    "    \"4\" : f\"\\tLoss: {avg_test_loss:.4f}\"    \n",
    "}\n",
    "\n",
    "#Print message\n",
    "for i in range(len(messages)):\n",
    "    print(messages[f\"{i+1}\"])"
   ]
  },
  {
   "cell_type": "markdown",
   "metadata": {},
   "source": [
    "## Improving your model\n",
    "\n",
    "Once your model is done training, try tweaking your hyperparameters and training again below to improve your accuracy on the test set!"
   ]
  },
  {
   "cell_type": "code",
   "execution_count": null,
   "metadata": {},
   "outputs": [],
   "source": []
  },
  {
   "cell_type": "markdown",
   "metadata": {},
   "source": [
    "## Saving your model\n",
    "Using `torch.save`, save your model for future loading."
   ]
  },
  {
   "cell_type": "code",
   "execution_count": null,
   "metadata": {},
   "outputs": [],
   "source": [
    "## YOUR CODE HERE ##"
   ]
  }
 ],
 "metadata": {
  "kernelspec": {
   "display_name": "Python 3",
   "language": "python",
   "name": "python3"
  },
  "language_info": {
   "codemirror_mode": {
    "name": "ipython",
    "version": 3
   },
   "file_extension": ".py",
   "mimetype": "text/x-python",
   "name": "python",
   "nbconvert_exporter": "python",
   "pygments_lexer": "ipython3",
   "version": "3.7.6"
  }
 },
 "nbformat": 4,
 "nbformat_minor": 4
}
